{
 "cells": [
  {
   "cell_type": "markdown",
   "id": "f4f47ad9-d467-40e9-9b08-5d6e48545d03",
   "metadata": {},
   "source": [
    "# Treatment of Scientific Data"
   ]
  },
  {
   "cell_type": "markdown",
   "id": "1fa13520-ad2e-40ac-a0d3-ebd5d646e718",
   "metadata": {},
   "source": [
    "#### Looking at the sugars in apple juice (concentration of g/L) from three different sources (A, B, C).\n",
    "##### Methods: Basic descriptive & relationship analysis with principal component analysis (PCA)."
   ]
  },
  {
   "cell_type": "code",
   "execution_count": 219,
   "id": "6097a2c0-f058-4129-9247-d11bdc570b91",
   "metadata": {},
   "outputs": [
    {
     "name": "stdout",
     "output_type": "stream",
     "text": [
      "  Variety  sucrose  glucose  fructose  sorbitol\n",
      "0       A       20        6        40       4.3\n",
      "1       A       27       11        49       2.9\n",
      "2       A       26       10        47       2.5\n",
      "3       A       34        5        47       2.9\n",
      "4       A       29       16        40       7.2\n",
      "(15, 5)\n"
     ]
    }
   ],
   "source": [
    "## Import pandas package to upload data.\n",
    "import pandas as pd\n",
    "df = pd.read_csv(\"Sugars_In_apple_juice.csv\")\n",
    "\n",
    "## Show first few rows of data.\n",
    "print(df.head(5))\n",
    "\n",
    "## Dimensions of data matrix\n",
    "print(df.shape)\n"
   ]
  },
  {
   "cell_type": "code",
   "execution_count": 220,
   "id": "8195aa22-8766-4874-949b-a169530481a9",
   "metadata": {},
   "outputs": [],
   "source": [
    "## Import remaining packages\n",
    "import numpy as np\n",
    "from sklearn.decomposition import PCA\n",
    "from sklearn.preprocessing import StandardScaler\n",
    "import matplotlib.pyplot as plt"
   ]
  },
  {
   "cell_type": "code",
   "execution_count": 222,
   "id": "2dc865de-a762-4845-8918-6f116f3944de",
   "metadata": {},
   "outputs": [
    {
     "data": {
      "text/plain": [
       "sucrose     15.800000\n",
       "glucose     16.533333\n",
       "fructose    52.066667\n",
       "sorbitol     4.306667\n",
       "dtype: float64"
      ]
     },
     "execution_count": 222,
     "metadata": {},
     "output_type": "execute_result"
    }
   ],
   "source": [
    "## Calculate the mean of each column.\n",
    "df[[\"sucrose\",\"glucose\",\"fructose\",\"sorbitol\"]].mean(axis=0)"
   ]
  },
  {
   "cell_type": "code",
   "execution_count": 224,
   "id": "c565584a-4a47-4b5b-af7c-5e71de5bdb06",
   "metadata": {},
   "outputs": [
    {
     "data": {
      "text/plain": [
       "sucrose     9.135488\n",
       "glucose     6.069439\n",
       "fructose    9.346250\n",
       "sorbitol    1.403295\n",
       "dtype: float64"
      ]
     },
     "execution_count": 224,
     "metadata": {},
     "output_type": "execute_result"
    }
   ],
   "source": [
    "### Calculate the std dev.\n",
    "df[[\"sucrose\",\"glucose\",\"fructose\",\"sorbitol\"]].std(axis=0)"
   ]
  },
  {
   "cell_type": "code",
   "execution_count": 226,
   "id": "d09aafdc-aaa1-46ac-86a9-609920492c88",
   "metadata": {},
   "outputs": [
    {
     "name": "stdout",
     "output_type": "stream",
     "text": [
      "The Correlation matrix is: \n",
      "           sucrose   glucose  fructose  sorbitol\n",
      "sucrose   1.000000 -0.546049 -0.224219  0.012389\n",
      "glucose  -0.546049  1.000000  0.436157  0.246206\n",
      "fructose -0.224219  0.436157  1.000000  0.232408\n",
      "sorbitol  0.012389  0.246206  0.232408  1.000000\n"
     ]
    }
   ],
   "source": [
    "## Calculate the correlations between each column. \n",
    "matrix = dataframe.corr()\n",
    "print(\"The Correlation matrix is: \")\n",
    "print(matrix)"
   ]
  },
  {
   "cell_type": "markdown",
   "id": "c626f35d-be9d-452d-8cf2-2efc0c8b1653",
   "metadata": {},
   "source": [
    "##### Do any of the columns appear to be highly correlated? \n",
    "##### Only sucrose and glucose have a somewhat strong albeit negative correlation at -0.55. All other sugars do not show any significant relationship."
   ]
  },
  {
   "cell_type": "code",
   "execution_count": 332,
   "id": "308ee13f-5d0f-4586-bd24-00a3162cbedd",
   "metadata": {},
   "outputs": [
    {
     "name": "stdout",
     "output_type": "stream",
     "text": [
      "[[ 0.47588185 -1.79638267 -1.33638488 -0.00491746]\n",
      " [ 1.26901828 -0.94366938 -0.33963373 -1.03758502]\n",
      " [ 1.15571308 -1.11421204 -0.56113398 -1.33263289]\n",
      " [ 2.0621547  -1.96692533 -0.56113398 -1.03758502]\n",
      " [ 1.49562869 -0.09095608 -1.33638488  2.13417962]\n",
      " [-1.11039099  1.6144705  -0.33963373 -0.37372731]\n",
      " [-0.65717018  0.93229987 -0.56113398 -0.59501321]\n",
      " [-0.20394937  0.76175721 -0.11813347  1.4703219 ]\n",
      " [-0.65717018  0.59121455 -0.33963373 -0.81629912]\n",
      " [-0.88378059  0.42067189 -0.33963373 -0.59501321]\n",
      " [-0.88378059  0.07958657  0.32486704  0.73270222]\n",
      " [-0.99708579  0.76175721  0.76786756 -0.74253715]\n",
      " [-0.09064416  0.59121455  1.76461871  0.43765435]\n",
      " [-0.20394937  0.42067189  2.42911948  0.95398812]\n",
      " [-0.77047538 -0.26149874  0.5463673   0.80646419]]\n"
     ]
    }
   ],
   "source": [
    "## Standardizing the data for PCA.\n",
    "\n",
    "features = [\"sucrose\",\"glucose\",\"fructose\",\"sorbitol\"]\n",
    "\n",
    "## Separating out the features.\n",
    "x = df.loc[:, features]. values\n",
    "\n",
    "## Separating out the target. \n",
    "y = df.loc[:,[\"Variety\"]].values\n",
    "\n",
    "# Standardizing the features\n",
    "\n",
    "x = StandardScaler().fit_transform(x)\n",
    "print(x)\n"
   ]
  },
  {
   "cell_type": "code",
   "execution_count": 334,
   "id": "878c5827-ed3b-4d02-8d66-a573957dc2c4",
   "metadata": {},
   "outputs": [
    {
     "name": "stdout",
     "output_type": "stream",
     "text": [
      "   principal component 1  principal component 2\n",
      "0               1.997743               0.214549\n",
      "1               1.743969              -0.453621\n",
      "2               1.952416              -0.770940\n",
      "3               2.949760              -0.082694\n",
      "4               1.040380               2.309198\n"
     ]
    }
   ],
   "source": [
    "## Dimension reduction from 4 dimensions to 2 dimensions as part of PCA.\n",
    "\n",
    "pca= PCA(n_components=2)\n",
    "\n",
    "principalComponents = pca.fit_transform(x)\n",
    "\n",
    "principalDf = pd.DataFrame(data = principalComponents, columns = [\"principal component 1\", \"principal component 2\"])\n",
    "print(principalDf.head(5))"
   ]
  },
  {
   "cell_type": "code",
   "execution_count": 335,
   "id": "1c9bf3e8-35c3-4b8f-b335-42e61fd26d5c",
   "metadata": {},
   "outputs": [
    {
     "name": "stdout",
     "output_type": "stream",
     "text": [
      "   principal component 1  principal component 2 Variety\n",
      "0               1.997743               0.214549       A\n",
      "1               1.743969              -0.453621       A\n",
      "2               1.952416              -0.770940       A\n",
      "3               2.949760              -0.082694       A\n",
      "4               1.040380               2.309198       A\n"
     ]
    }
   ],
   "source": [
    "## Adding the target to the results.\n",
    "finalDf = pd.concat([principalDf, df[['Variety']]], axis =1)\n",
    "print(finalDf.head(5))"
   ]
  },
  {
   "cell_type": "code",
   "execution_count": 337,
   "id": "34ac1ae9-c2ee-464c-abdb-167adce689e1",
   "metadata": {},
   "outputs": [
    {
     "data": {
      "image/png": "[encoded data removed]",
      "text/plain": [
       "<Figure size 640x480 with 1 Axes>"
      ]
     },
     "metadata": {},
     "output_type": "display_data"
    }
   ],
   "source": [
    "## Scree plot\n",
    "\n",
    "per_var = np.round(pca.explained_variance_ratio_* 100, decimals=1)\n",
    "labels = [\"PC\" + str(x) for x in range(1,len(per_var)+1)]\n",
    "\n",
    "plt.bar(x=range(1,len(per_var)+1), height=per_var, tick_label=labels)\n",
    "plt.ylabel(\"Percentage of Explained Variance\")\n",
    "plt.xlabel(\"Principal Component\")\n",
    "plt.title(\"Scree Plot\")\n",
    "plt.show()"
   ]
  },
  {
   "cell_type": "code",
   "execution_count": 339,
   "id": "5eb3ebdf-0e1e-4141-85f6-ee28b079c8c2",
   "metadata": {},
   "outputs": [
    {
     "data": {
      "image/png": "[encoded data removed]",
      "text/plain": [
       "<Figure size 600x600 with 1 Axes>"
      ]
     },
     "metadata": {},
     "output_type": "display_data"
    }
   ],
   "source": [
    "## Visualise the 2D graph in a score plot.\n",
    "\n",
    "fig = plt.figure(figsize = (6,6))\n",
    "ax = fig.add_subplot(1,1,1)\n",
    "ax.set_xlabel(\"Principal Component 1\", fontsize = 15)\n",
    "ax.set_ylabel(\"Principal Component 2\", fontsize = 15)\n",
    "ax.set_title(\"Two Principal Components\", fontsize = 20)\n",
    "\n",
    "Variety = [\"A\", \"B\", \"C\"]\n",
    "colors = [\"red\", \"green\", \"blue\"]\n",
    "\n",
    "for Variety, color in zip(Variety,colors):\n",
    "    indicesToKeep = finalDf[\"Variety\"] == Variety\n",
    "    ax.scatter(finalDf.loc[indicesToKeep, \"principal component 1\"]\n",
    "               ,finalDf.loc[indicesToKeep, \"principal component 2\"]\n",
    "               ,c = color\n",
    "               ,s = 50)\n",
    "    \n",
    "ax.legend(Variety)\n",
    "ax.grid()"
   ]
  },
  {
   "cell_type": "code",
   "execution_count": 345,
   "id": "5ceeaec3-baca-40f2-814c-4efd39d66141",
   "metadata": {},
   "outputs": [
    {
     "data": {
      "text/plain": [
       "array([0.52849442, 0.24234006])"
      ]
     },
     "execution_count": 345,
     "metadata": {},
     "output_type": "execute_result"
    }
   ],
   "source": [
    "#Explain the Variance\n",
    "\n",
    "pca.explained_variance_ratio_"
   ]
  },
  {
   "cell_type": "markdown",
   "id": "16002258-257d-4412-981d-a4e9c7a71971",
   "metadata": {},
   "source": [
    "### Findings:\n",
    "##### PC1 accounts for a majority of the variance as per scree plot. By reducing the dimensionality, there is no corrleation betwen the A, B, C varieties of Apple Juice with regards to the different sugars. The varience ratio of for PC1 is 53% & PC2 is 24% and the variance is only 77% which is well below the threshold of 85% that makes PCA appropriate. Therefore, PCA should not be used for these experiments to establish a relationship."
   ]
  },
  {
   "cell_type": "code",
   "execution_count": null,
   "id": "d43a0158-2ce3-4ea0-ba78-5e58779421cf",
   "metadata": {},
   "outputs": [],
   "source": []
  }
 ],
 "metadata": {
  "kernelspec": {
   "display_name": "anaconda-2024.02-py310",
   "language": "python",
   "name": "conda-env-anaconda-2024.02-py310-py"
  },
  "language_info": {
   "codemirror_mode": {
    "name": "ipython",
    "version": 3
   },
   "file_extension": ".py",
   "mimetype": "text/x-python",
   "name": "python",
   "nbconvert_exporter": "python",
   "pygments_lexer": "ipython3",
   "version": "3.10.14"
  }
 },
 "nbformat": 4,
 "nbformat_minor": 5
}
